{
 "cells": [
  {
   "cell_type": "markdown",
   "metadata": {},
   "source": [
    "# Problem Set 11"
   ]
  },
  {
   "cell_type": "code",
   "execution_count": 3,
   "metadata": {
    "scrolled": true
   },
   "outputs": [
    {
     "data": {
      "text/plain": [
       "RendererRegistry.enable('notebook')"
      ]
     },
     "execution_count": 3,
     "metadata": {},
     "output_type": "execute_result"
    }
   ],
   "source": [
    "import pandas as pd\n",
    "import numpy as np\n",
    "import altair as alt\n",
    "alt.renderers.enable('notebook')\n",
    "#visualization with altair? needs these three lines!!!"
   ]
  },
  {
   "cell_type": "code",
   "execution_count": 4,
   "metadata": {},
   "outputs": [
    {
     "data": {
      "text/html": [
       "<div>\n",
       "<style scoped>\n",
       "    .dataframe tbody tr th:only-of-type {\n",
       "        vertical-align: middle;\n",
       "    }\n",
       "\n",
       "    .dataframe tbody tr th {\n",
       "        vertical-align: top;\n",
       "    }\n",
       "\n",
       "    .dataframe thead th {\n",
       "        text-align: right;\n",
       "    }\n",
       "</style>\n",
       "<table border=\"1\" class=\"dataframe\">\n",
       "  <thead>\n",
       "    <tr style=\"text-align: right;\">\n",
       "      <th></th>\n",
       "      <th>Text</th>\n",
       "      <th>Author</th>\n",
       "      <th>Positive</th>\n",
       "      <th>Negative</th>\n",
       "      <th>Neutral</th>\n",
       "    </tr>\n",
       "  </thead>\n",
       "  <tbody>\n",
       "    <tr>\n",
       "      <th>0</th>\n",
       "      <td>jew_of_malta.txt</td>\n",
       "      <td>Marlowe</td>\n",
       "      <td>0.120</td>\n",
       "      <td>0.090</td>\n",
       "      <td>0.790</td>\n",
       "    </tr>\n",
       "    <tr>\n",
       "      <th>1</th>\n",
       "      <td>massacre_at_paris.txt</td>\n",
       "      <td>Marlowe</td>\n",
       "      <td>0.121</td>\n",
       "      <td>0.080</td>\n",
       "      <td>0.798</td>\n",
       "    </tr>\n",
       "    <tr>\n",
       "      <th>2</th>\n",
       "      <td>tamburlaine.txt</td>\n",
       "      <td>Marlowe</td>\n",
       "      <td>0.141</td>\n",
       "      <td>0.091</td>\n",
       "      <td>0.768</td>\n",
       "    </tr>\n",
       "    <tr>\n",
       "      <th>3</th>\n",
       "      <td>faustus.txt</td>\n",
       "      <td>Marlowe</td>\n",
       "      <td>0.119</td>\n",
       "      <td>0.089</td>\n",
       "      <td>0.792</td>\n",
       "    </tr>\n",
       "    <tr>\n",
       "      <th>4</th>\n",
       "      <td>dido_queen_of_carthage.txt</td>\n",
       "      <td>Marlowe</td>\n",
       "      <td>0.087</td>\n",
       "      <td>0.062</td>\n",
       "      <td>0.851</td>\n",
       "    </tr>\n",
       "    <tr>\n",
       "      <th>5</th>\n",
       "      <td>edward_II.txt</td>\n",
       "      <td>Marlowe</td>\n",
       "      <td>0.133</td>\n",
       "      <td>0.112</td>\n",
       "      <td>0.755</td>\n",
       "    </tr>\n",
       "    <tr>\n",
       "      <th>6</th>\n",
       "      <td>hero_and_leander.txt</td>\n",
       "      <td>Marlowe</td>\n",
       "      <td>0.190</td>\n",
       "      <td>0.100</td>\n",
       "      <td>0.710</td>\n",
       "    </tr>\n",
       "    <tr>\n",
       "      <th>7</th>\n",
       "      <td>henry_vi_3.txt</td>\n",
       "      <td>Shakespeare</td>\n",
       "      <td>0.122</td>\n",
       "      <td>0.084</td>\n",
       "      <td>0.794</td>\n",
       "    </tr>\n",
       "    <tr>\n",
       "      <th>8</th>\n",
       "      <td>love_labours_lost.txt</td>\n",
       "      <td>Shakespeare</td>\n",
       "      <td>0.179</td>\n",
       "      <td>0.093</td>\n",
       "      <td>0.729</td>\n",
       "    </tr>\n",
       "    <tr>\n",
       "      <th>9</th>\n",
       "      <td>henry_vi_2.txt</td>\n",
       "      <td>Shakespeare</td>\n",
       "      <td>0.114</td>\n",
       "      <td>0.089</td>\n",
       "      <td>0.797</td>\n",
       "    </tr>\n",
       "    <tr>\n",
       "      <th>10</th>\n",
       "      <td>henry_vi_1.txt</td>\n",
       "      <td>Shakespeare</td>\n",
       "      <td>0.138</td>\n",
       "      <td>0.132</td>\n",
       "      <td>0.731</td>\n",
       "    </tr>\n",
       "    <tr>\n",
       "      <th>11</th>\n",
       "      <td>richard_iii.txt</td>\n",
       "      <td>Shakespeare</td>\n",
       "      <td>0.157</td>\n",
       "      <td>0.147</td>\n",
       "      <td>0.695</td>\n",
       "    </tr>\n",
       "    <tr>\n",
       "      <th>12</th>\n",
       "      <td>taming_of_the_shrew.txt</td>\n",
       "      <td>Shakespeare</td>\n",
       "      <td>0.159</td>\n",
       "      <td>0.073</td>\n",
       "      <td>0.767</td>\n",
       "    </tr>\n",
       "    <tr>\n",
       "      <th>13</th>\n",
       "      <td>two_gentleman_of_verona.txt</td>\n",
       "      <td>Shakespeare</td>\n",
       "      <td>0.174</td>\n",
       "      <td>0.093</td>\n",
       "      <td>0.733</td>\n",
       "    </tr>\n",
       "    <tr>\n",
       "      <th>14</th>\n",
       "      <td>comedy_of_errors.txt</td>\n",
       "      <td>Shakespeare</td>\n",
       "      <td>0.086</td>\n",
       "      <td>0.085</td>\n",
       "      <td>0.829</td>\n",
       "    </tr>\n",
       "    <tr>\n",
       "      <th>15</th>\n",
       "      <td>edward_iii.txt</td>\n",
       "      <td>Shakespeare</td>\n",
       "      <td>0.152</td>\n",
       "      <td>0.126</td>\n",
       "      <td>0.721</td>\n",
       "    </tr>\n",
       "    <tr>\n",
       "      <th>16</th>\n",
       "      <td>titus_andronicus.txt</td>\n",
       "      <td>Shakespeare</td>\n",
       "      <td>0.140</td>\n",
       "      <td>0.137</td>\n",
       "      <td>0.723</td>\n",
       "    </tr>\n",
       "  </tbody>\n",
       "</table>\n",
       "</div>"
      ],
      "text/plain": [
       "                           Text       Author  Positive  Negative  Neutral\n",
       "0              jew_of_malta.txt      Marlowe     0.120     0.090    0.790\n",
       "1         massacre_at_paris.txt      Marlowe     0.121     0.080    0.798\n",
       "2               tamburlaine.txt      Marlowe     0.141     0.091    0.768\n",
       "3                   faustus.txt      Marlowe     0.119     0.089    0.792\n",
       "4    dido_queen_of_carthage.txt      Marlowe     0.087     0.062    0.851\n",
       "5                 edward_II.txt      Marlowe     0.133     0.112    0.755\n",
       "6          hero_and_leander.txt      Marlowe     0.190     0.100    0.710\n",
       "7                henry_vi_3.txt  Shakespeare     0.122     0.084    0.794\n",
       "8         love_labours_lost.txt  Shakespeare     0.179     0.093    0.729\n",
       "9                henry_vi_2.txt  Shakespeare     0.114     0.089    0.797\n",
       "10               henry_vi_1.txt  Shakespeare     0.138     0.132    0.731\n",
       "11              richard_iii.txt  Shakespeare     0.157     0.147    0.695\n",
       "12      taming_of_the_shrew.txt  Shakespeare     0.159     0.073    0.767\n",
       "13  two_gentleman_of_verona.txt  Shakespeare     0.174     0.093    0.733\n",
       "14         comedy_of_errors.txt  Shakespeare     0.086     0.085    0.829\n",
       "15               edward_iii.txt  Shakespeare     0.152     0.126    0.721\n",
       "16         titus_andronicus.txt  Shakespeare     0.140     0.137    0.723"
      ]
     },
     "execution_count": 4,
     "metadata": {},
     "output_type": "execute_result"
    }
   ],
   "source": [
    "#Load the dataset\n",
    "authors = pd.read_csv('sentimentData.csv')\n",
    "authors"
   ]
  },
  {
   "cell_type": "markdown",
   "metadata": {},
   "source": [
    "Some scholars contend that Shakespeare's early plays are actually collaborations that could be attributed to other authors. One such author is Christopher Marlow (1564-1593). Use a series of visualizations to compare data from Marlowe's plays and Shakespeare's plays. The file contains CSV data looking at both sentiment and word counts comparing plays from the two authors."
   ]
  },
  {
   "cell_type": "markdown",
   "metadata": {},
   "source": [
    "### Problem 5"
   ]
  },
  {
   "cell_type": "markdown",
   "metadata": {},
   "source": [
    "Build a visualization that allows you to compare the distribution of positive sentiment in both Marlowe and \n",
    "Shakespeare. What does this tell you about the styles of the two authors?"
   ]
  },
  {
   "cell_type": "code",
   "execution_count": 5,
   "metadata": {},
   "outputs": [
    {
     "name": "stdout",
     "output_type": "stream",
     "text": [
      "Index(['Text', 'Author', 'Positive', 'Negative', 'Neutral'], dtype='object')\n"
     ]
    }
   ],
   "source": [
    "print(authors.columns)"
   ]
  },
  {
   "cell_type": "code",
   "execution_count": 8,
   "metadata": {},
   "outputs": [
    {
     "data": {
      "application/javascript": [
       "var spec = {\"config\": {\"view\": {\"width\": 400, \"height\": 300}}, \"data\": {\"name\": \"data-033e35f39209e7bd9450bf4e917ef80e\"}, \"mark\": \"point\", \"encoding\": {\"x\": {\"type\": \"quantitative\", \"field\": \"Positive\"}, \"y\": {\"type\": \"nominal\", \"field\": \"Author\"}}, \"selection\": {\"selector003\": {\"type\": \"interval\", \"bind\": \"scales\", \"encodings\": [\"x\", \"y\"]}}, \"$schema\": \"https://vega.github.io/schema/vega-lite/v2.6.0.json\", \"datasets\": {\"data-033e35f39209e7bd9450bf4e917ef80e\": [{\"Text\": \"jew_of_malta.txt\", \"Author\": \"Marlowe\", \"Positive\": 0.12, \"Negative\": 0.09, \"Neutral\": 0.79}, {\"Text\": \"massacre_at_paris.txt\", \"Author\": \"Marlowe\", \"Positive\": 0.121, \"Negative\": 0.08, \"Neutral\": 0.7979999999999999}, {\"Text\": \"tamburlaine.txt\", \"Author\": \"Marlowe\", \"Positive\": 0.141, \"Negative\": 0.091, \"Neutral\": 0.768}, {\"Text\": \"faustus.txt\", \"Author\": \"Marlowe\", \"Positive\": 0.11900000000000001, \"Negative\": 0.08900000000000001, \"Neutral\": 0.792}, {\"Text\": \"dido_queen_of_carthage.txt\", \"Author\": \"Marlowe\", \"Positive\": 0.087, \"Negative\": 0.062, \"Neutral\": 0.851}, {\"Text\": \"edward_II.txt\", \"Author\": \"Marlowe\", \"Positive\": 0.133, \"Negative\": 0.11199999999999999, \"Neutral\": 0.755}, {\"Text\": \"hero_and_leander.txt\", \"Author\": \"Marlowe\", \"Positive\": 0.19, \"Negative\": 0.1, \"Neutral\": 0.71}, {\"Text\": \"henry_vi_3.txt\", \"Author\": \"Shakespeare\", \"Positive\": 0.122, \"Negative\": 0.084, \"Neutral\": 0.794}, {\"Text\": \"love_labours_lost.txt\", \"Author\": \"Shakespeare\", \"Positive\": 0.179, \"Negative\": 0.09300000000000001, \"Neutral\": 0.7290000000000001}, {\"Text\": \"henry_vi_2.txt\", \"Author\": \"Shakespeare\", \"Positive\": 0.114, \"Negative\": 0.08900000000000001, \"Neutral\": 0.797}, {\"Text\": \"henry_vi_1.txt\", \"Author\": \"Shakespeare\", \"Positive\": 0.138, \"Negative\": 0.132, \"Neutral\": 0.731}, {\"Text\": \"richard_iii.txt\", \"Author\": \"Shakespeare\", \"Positive\": 0.157, \"Negative\": 0.147, \"Neutral\": 0.695}, {\"Text\": \"taming_of_the_shrew.txt\", \"Author\": \"Shakespeare\", \"Positive\": 0.159, \"Negative\": 0.073, \"Neutral\": 0.767}, {\"Text\": \"two_gentleman_of_verona.txt\", \"Author\": \"Shakespeare\", \"Positive\": 0.174, \"Negative\": 0.09300000000000001, \"Neutral\": 0.733}, {\"Text\": \"comedy_of_errors.txt\", \"Author\": \"Shakespeare\", \"Positive\": 0.086, \"Negative\": 0.085, \"Neutral\": 0.8290000000000001}, {\"Text\": \"edward_iii.txt\", \"Author\": \"Shakespeare\", \"Positive\": 0.152, \"Negative\": 0.126, \"Neutral\": 0.721}, {\"Text\": \"titus_andronicus.txt\", \"Author\": \"Shakespeare\", \"Positive\": 0.14, \"Negative\": 0.13699999999999998, \"Neutral\": 0.723}]}};\n",
       "var opt = {};\n",
       "var type = \"vega-lite\";\n",
       "var id = \"ee1f1796-5b08-496d-a330-5c03d4aa41d8\";\n",
       "\n",
       "var output_area = this;\n",
       "\n",
       "require([\"nbextensions/jupyter-vega/index\"], function(vega) {\n",
       "  var target = document.createElement(\"div\");\n",
       "  target.id = id;\n",
       "  target.className = \"vega-embed\";\n",
       "\n",
       "  var style = document.createElement(\"style\");\n",
       "  style.textContent = [\n",
       "    \".vega-embed .error p {\",\n",
       "    \"  color: firebrick;\",\n",
       "    \"  font-size: 14px;\",\n",
       "    \"}\",\n",
       "  ].join(\"\\\\n\");\n",
       "\n",
       "  // element is a jQuery wrapped DOM element inside the output area\n",
       "  // see http://ipython.readthedocs.io/en/stable/api/generated/\\\n",
       "  // IPython.display.html#IPython.display.Javascript.__init__\n",
       "  element[0].appendChild(target);\n",
       "  element[0].appendChild(style);\n",
       "\n",
       "  vega.render(\"#\" + id, spec, type, opt, output_area);\n",
       "}, function (err) {\n",
       "  if (err.requireType !== \"scripterror\") {\n",
       "    throw(err);\n",
       "  }\n",
       "});\n"
      ],
      "text/plain": [
       "<vega.vegalite.VegaLite at 0x113d51978>"
      ]
     },
     "metadata": {
      "jupyter-vega": "#ee1f1796-5b08-496d-a330-5c03d4aa41d8"
     },
     "output_type": "display_data"
    },
    {
     "data": {
      "text/plain": []
     },
     "execution_count": 8,
     "metadata": {},
     "output_type": "execute_result"
    },
    {
     "data": {
      "image/png": "[encoded data removed]"
     },
     "metadata": {
      "jupyter-vega": "#ee1f1796-5b08-496d-a330-5c03d4aa41d8"
     },
     "output_type": "display_data"
    }
   ],
   "source": [
    "alt.Chart(authors).mark_point().encode(\n",
    "    x = 'Positive',\n",
    "    y = 'Author',alt.Chart(authors).mark_point().encode(\n",
    "    x = 'Positive',\n",
    "    y = 'Author',\n",
    "    #color = 'Origin'\n",
    ").interactive()\n",
    "    #color = 'Origin'\n",
    ").interactive()"
   ]
  },
  {
   "cell_type": "markdown",
   "metadata": {},
   "source": [
    "This shows you that on average, Shakespeare has more texts with positive analysis. However, one of Marlowe's text's has the highest positive analysis (at ~0.19)"
   ]
  },
  {
   "cell_type": "markdown",
   "metadata": {},
   "source": [
    "### Problem 6"
   ]
  },
  {
   "cell_type": "markdown",
   "metadata": {},
   "source": [
    "Build a visualization that allows you to explore the correlation of word counts for Marlowe and Shakespeare. What does this tell you about the styles of the two authors? "
   ]
  },
  {
   "cell_type": "code",
   "execution_count": 26,
   "metadata": {},
   "outputs": [
    {
     "name": "stdout",
     "output_type": "stream",
     "text": [
      "Text\n"
     ]
    },
    {
     "ename": "TypeError",
     "evalue": "'NoneType' object is not subscriptable",
     "output_type": "error",
     "traceback": [
      "\u001b[0;31m---------------------------------------------------------------------------\u001b[0m",
      "\u001b[0;31mTypeError\u001b[0m                                 Traceback (most recent call last)",
      "\u001b[0;32m<ipython-input-26-e6f90d9001f3>\u001b[0m in \u001b[0;36m<module>\u001b[0;34m\u001b[0m\n\u001b[0;32m----> 1\u001b[0;31m \u001b[0mprint\u001b[0m\u001b[0;34m(\u001b[0m\u001b[0;34m'Text'\u001b[0m\u001b[0;34m)\u001b[0m\u001b[0;34m[\u001b[0m\u001b[0;34m:\u001b[0m\u001b[0;36m5\u001b[0m\u001b[0;34m]\u001b[0m\u001b[0;34m\u001b[0m\u001b[0m\n\u001b[0m",
      "\u001b[0;31mTypeError\u001b[0m: 'NoneType' object is not subscriptable"
     ]
    }
   ],
   "source": [
    "print('Text')[:5]"
   ]
  },
  {
   "cell_type": "code",
   "execution_count": 24,
   "metadata": {},
   "outputs": [
    {
     "data": {
      "application/javascript": [
       "var spec = {\"config\": {\"view\": {\"width\": 400, \"height\": 300}, \"mark\": {\"color\": \"red\", \"opacity\": 0.5}}, \"data\": {\"name\": \"data-033e35f39209e7bd9450bf4e917ef80e\"}, \"mark\": \"point\", \"encoding\": {\"x\": {\"type\": \"nominal\", \"field\": \"Author\"}, \"y\": {\"type\": \"nominal\", \"field\": \"Text\"}}, \"selection\": {\"selector015\": {\"type\": \"interval\", \"bind\": \"scales\", \"encodings\": [\"x\", \"y\"]}}, \"$schema\": \"https://vega.github.io/schema/vega-lite/v2.6.0.json\", \"datasets\": {\"data-033e35f39209e7bd9450bf4e917ef80e\": [{\"Text\": \"jew_of_malta.txt\", \"Author\": \"Marlowe\", \"Positive\": 0.12, \"Negative\": 0.09, \"Neutral\": 0.79}, {\"Text\": \"massacre_at_paris.txt\", \"Author\": \"Marlowe\", \"Positive\": 0.121, \"Negative\": 0.08, \"Neutral\": 0.7979999999999999}, {\"Text\": \"tamburlaine.txt\", \"Author\": \"Marlowe\", \"Positive\": 0.141, \"Negative\": 0.091, \"Neutral\": 0.768}, {\"Text\": \"faustus.txt\", \"Author\": \"Marlowe\", \"Positive\": 0.11900000000000001, \"Negative\": 0.08900000000000001, \"Neutral\": 0.792}, {\"Text\": \"dido_queen_of_carthage.txt\", \"Author\": \"Marlowe\", \"Positive\": 0.087, \"Negative\": 0.062, \"Neutral\": 0.851}, {\"Text\": \"edward_II.txt\", \"Author\": \"Marlowe\", \"Positive\": 0.133, \"Negative\": 0.11199999999999999, \"Neutral\": 0.755}, {\"Text\": \"hero_and_leander.txt\", \"Author\": \"Marlowe\", \"Positive\": 0.19, \"Negative\": 0.1, \"Neutral\": 0.71}, {\"Text\": \"henry_vi_3.txt\", \"Author\": \"Shakespeare\", \"Positive\": 0.122, \"Negative\": 0.084, \"Neutral\": 0.794}, {\"Text\": \"love_labours_lost.txt\", \"Author\": \"Shakespeare\", \"Positive\": 0.179, \"Negative\": 0.09300000000000001, \"Neutral\": 0.7290000000000001}, {\"Text\": \"henry_vi_2.txt\", \"Author\": \"Shakespeare\", \"Positive\": 0.114, \"Negative\": 0.08900000000000001, \"Neutral\": 0.797}, {\"Text\": \"henry_vi_1.txt\", \"Author\": \"Shakespeare\", \"Positive\": 0.138, \"Negative\": 0.132, \"Neutral\": 0.731}, {\"Text\": \"richard_iii.txt\", \"Author\": \"Shakespeare\", \"Positive\": 0.157, \"Negative\": 0.147, \"Neutral\": 0.695}, {\"Text\": \"taming_of_the_shrew.txt\", \"Author\": \"Shakespeare\", \"Positive\": 0.159, \"Negative\": 0.073, \"Neutral\": 0.767}, {\"Text\": \"two_gentleman_of_verona.txt\", \"Author\": \"Shakespeare\", \"Positive\": 0.174, \"Negative\": 0.09300000000000001, \"Neutral\": 0.733}, {\"Text\": \"comedy_of_errors.txt\", \"Author\": \"Shakespeare\", \"Positive\": 0.086, \"Negative\": 0.085, \"Neutral\": 0.8290000000000001}, {\"Text\": \"edward_iii.txt\", \"Author\": \"Shakespeare\", \"Positive\": 0.152, \"Negative\": 0.126, \"Neutral\": 0.721}, {\"Text\": \"titus_andronicus.txt\", \"Author\": \"Shakespeare\", \"Positive\": 0.14, \"Negative\": 0.13699999999999998, \"Neutral\": 0.723}]}};\n",
       "var opt = {};\n",
       "var type = \"vega-lite\";\n",
       "var id = \"fded6332-0bd9-4944-b5fb-f299857eb6af\";\n",
       "\n",
       "var output_area = this;\n",
       "\n",
       "require([\"nbextensions/jupyter-vega/index\"], function(vega) {\n",
       "  var target = document.createElement(\"div\");\n",
       "  target.id = id;\n",
       "  target.className = \"vega-embed\";\n",
       "\n",
       "  var style = document.createElement(\"style\");\n",
       "  style.textContent = [\n",
       "    \".vega-embed .error p {\",\n",
       "    \"  color: firebrick;\",\n",
       "    \"  font-size: 14px;\",\n",
       "    \"}\",\n",
       "  ].join(\"\\\\n\");\n",
       "\n",
       "  // element is a jQuery wrapped DOM element inside the output area\n",
       "  // see http://ipython.readthedocs.io/en/stable/api/generated/\\\n",
       "  // IPython.display.html#IPython.display.Javascript.__init__\n",
       "  element[0].appendChild(target);\n",
       "  element[0].appendChild(style);\n",
       "\n",
       "  vega.render(\"#\" + id, spec, type, opt, output_area);\n",
       "}, function (err) {\n",
       "  if (err.requireType !== \"scripterror\") {\n",
       "    throw(err);\n",
       "  }\n",
       "});\n"
      ],
      "text/plain": [
       "<vega.vegalite.VegaLite at 0x11259f7f0>"
      ]
     },
     "metadata": {
      "jupyter-vega": "#fded6332-0bd9-4944-b5fb-f299857eb6af"
     },
     "output_type": "display_data"
    },
    {
     "data": {
      "text/plain": []
     },
     "execution_count": 24,
     "metadata": {},
     "output_type": "execute_result"
    },
    {
     "data": {
      "image/png": "[encoded data removed]"
     },
     "metadata": {
      "jupyter-vega": "#fded6332-0bd9-4944-b5fb-f299857eb6af"
     },
     "output_type": "display_data"
    }
   ],
   "source": [
    "alt.Chart(authors).mark_point().encode(\n",
    "    x = 'Author',\n",
    "    y = 'Text',\n",
    "    #opacity = 0.2,\n",
    "    #color = 'red'\n",
    ").configure_mark(\n",
    "    opacity=0.5,\n",
    "    color='red'\n",
    ").interactive()"
   ]
  },
  {
   "cell_type": "markdown",
   "metadata": {},
   "source": [
    "### Problem 7"
   ]
  },
  {
   "cell_type": "markdown",
   "metadata": {},
   "source": [
    "Generate three additional visualizations using this data (please use different visualization techniques for each visualization). What do these visualizations tell you about potential collaborations between Shakespeare and Marlowe? "
   ]
  },
  {
   "cell_type": "code",
   "execution_count": null,
   "metadata": {},
   "outputs": [],
   "source": []
  }
 ],
 "metadata": {
  "kernelspec": {
   "display_name": "Python 3",
   "language": "python",
   "name": "python3"
  },
  "language_info": {
   "codemirror_mode": {
    "name": "ipython",
    "version": 3
   },
   "file_extension": ".py",
   "mimetype": "text/x-python",
   "name": "python",
   "nbconvert_exporter": "python",
   "pygments_lexer": "ipython3",
   "version": "3.6.5"
  }
 },
 "nbformat": 4,
 "nbformat_minor": 2
}
